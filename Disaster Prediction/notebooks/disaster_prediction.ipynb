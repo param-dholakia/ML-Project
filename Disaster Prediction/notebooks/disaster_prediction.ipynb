{
 "cells": [
  {
   "cell_type": "code",
   "execution_count": 1,
   "id": "eb9a8a0f-e771-492e-9b86-bbce812dbde7",
   "metadata": {},
   "outputs": [],
   "source": [
    "# Import necessary libraries\n",
    "import pandas as pd\n",
    "import numpy as np\n",
    "import matplotlib.pyplot as plt\n",
    "import seaborn as sns\n",
    "from sklearn.model_selection import train_test_split\n",
    "from sklearn.preprocessing import StandardScaler\n",
    "from sklearn.impute import SimpleImputer\n",
    "from sklearn.ensemble import RandomForestClassifier\n",
    "from sklearn.neighbors import KNeighborsClassifier\n",
    "from sklearn.svm import SVC\n",
    "from sklearn.metrics import accuracy_score, classification_report\n",
    "from sklearn.preprocessing import LabelEncoder"
   ]
  },
  {
   "cell_type": "markdown",
   "id": "36db3c95-48a9-497d-bb4a-20221d36353b",
   "metadata": {},
   "source": [
    "### Set plot style\n",
    "plt.style.use('seaborn')"
   ]
  },
  {
   "cell_type": "markdown",
   "id": "100fc91a-59b2-421d-b45b-cfde754163bc",
   "metadata": {},
   "source": [
    "### 1. Data Loading"
   ]
  },
  {
   "cell_type": "code",
   "execution_count": 6,
   "id": "627273f0-66a8-44b0-a6d6-40db8c01be03",
   "metadata": {},
   "outputs": [],
   "source": [
    "data = pd.read_csv(r'C:\\Users\\PARAM\\Desktop\\ML-Project\\Disaster Prediction\\data\\natural_disasters_dataset.csv')"
   ]
  },
  {
   "cell_type": "markdown",
   "id": "466d5c47-6e88-4b72-8b30-4a59c837de62",
   "metadata": {},
   "source": [
    "### 2. Basic EDA"
   ]
  },
  {
   "cell_type": "code",
   "execution_count": 7,
   "id": "a7625ec6-500b-443c-8ba6-5dd7bdadfcf5",
   "metadata": {},
   "outputs": [
    {
     "name": "stdout",
     "output_type": "stream",
     "text": [
      "\n",
      "Dataset Info:\n",
      "<class 'pandas.core.frame.DataFrame'>\n",
      "RangeIndex: 16126 entries, 0 to 16125\n",
      "Data columns (total 45 columns):\n",
      " #   Column                      Non-Null Count  Dtype  \n",
      "---  ------                      --------------  -----  \n",
      " 0   Year                        16126 non-null  int64  \n",
      " 1   Seq                         16126 non-null  int64  \n",
      " 2   Glide                       1581 non-null   object \n",
      " 3   Disaster Group              16126 non-null  object \n",
      " 4   Disaster Subgroup           16126 non-null  object \n",
      " 5   Disaster Type               16126 non-null  object \n",
      " 6   Disaster Subtype            13016 non-null  object \n",
      " 7   Disaster Subsubtype         1077 non-null   object \n",
      " 8   Event Name                  3861 non-null   object \n",
      " 9   Country                     16126 non-null  object \n",
      " 10  ISO                         16126 non-null  object \n",
      " 11  Region                      16126 non-null  object \n",
      " 12  Continent                   16126 non-null  object \n",
      " 13  Location                    14334 non-null  object \n",
      " 14  Origin                      3794 non-null   object \n",
      " 15  Associated Dis              3348 non-null   object \n",
      " 16  Associated Dis2             707 non-null    object \n",
      " 17  OFDA Response               1694 non-null   object \n",
      " 18  Appeal                      2569 non-null   object \n",
      " 19  Declaration                 3256 non-null   object \n",
      " 20  Aid Contribution            677 non-null    float64\n",
      " 21  Dis Mag Value               4946 non-null   float64\n",
      " 22  Dis Mag Scale               14936 non-null  object \n",
      " 23  Latitude                    2729 non-null   object \n",
      " 24  Longitude                   2732 non-null   object \n",
      " 25  Local Time                  1103 non-null   object \n",
      " 26  River Basin                 1287 non-null   object \n",
      " 27  Start Year                  16126 non-null  int64  \n",
      " 28  Start Month                 15739 non-null  float64\n",
      " 29  Start Day                   12498 non-null  float64\n",
      " 30  End Year                    16126 non-null  int64  \n",
      " 31  End Month                   15418 non-null  float64\n",
      " 32  End Day                     12570 non-null  float64\n",
      " 33  Total Deaths                11413 non-null  float64\n",
      " 34  No Injured                  3895 non-null   float64\n",
      " 35  No Affected                 9220 non-null   float64\n",
      " 36  No Homeless                 2430 non-null   float64\n",
      " 37  Total Affected              11617 non-null  float64\n",
      " 38  Insured Damages ('000 US$)  1096 non-null   float64\n",
      " 39  Total Damages ('000 US$)    5245 non-null   float64\n",
      " 40  CPI                         15811 non-null  float64\n",
      " 41  Adm Level                   7859 non-null   object \n",
      " 42  Admin1 Code                 4581 non-null   object \n",
      " 43  Admin2 Code                 3969 non-null   object \n",
      " 44  Geo Locations               7859 non-null   object \n",
      "dtypes: float64(14), int64(4), object(27)\n",
      "memory usage: 5.5+ MB\n",
      "None\n"
     ]
    }
   ],
   "source": [
    "print(\"\\nDataset Info:\")\n",
    "print(data.info())"
   ]
  },
  {
   "cell_type": "code",
   "execution_count": 8,
   "id": "2fffdfc4-afc7-4279-ab73-6a6c03fc2da6",
   "metadata": {},
   "outputs": [
    {
     "data": {
      "text/plain": [
       "Index(['Year', 'Seq', 'Glide', 'Disaster Group', 'Disaster Subgroup',\n",
       "       'Disaster Type', 'Disaster Subtype', 'Disaster Subsubtype',\n",
       "       'Event Name', 'Country', 'ISO', 'Region', 'Continent', 'Location',\n",
       "       'Origin', 'Associated Dis', 'Associated Dis2', 'OFDA Response',\n",
       "       'Appeal', 'Declaration', 'Aid Contribution', 'Dis Mag Value',\n",
       "       'Dis Mag Scale', 'Latitude', 'Longitude', 'Local Time', 'River Basin',\n",
       "       'Start Year', 'Start Month', 'Start Day', 'End Year', 'End Month',\n",
       "       'End Day', 'Total Deaths', 'No Injured', 'No Affected', 'No Homeless',\n",
       "       'Total Affected', 'Insured Damages ('000 US$)',\n",
       "       'Total Damages ('000 US$)', 'CPI', 'Adm Level', 'Admin1 Code',\n",
       "       'Admin2 Code', 'Geo Locations'],\n",
       "      dtype='object')"
      ]
     },
     "execution_count": 8,
     "metadata": {},
     "output_type": "execute_result"
    }
   ],
   "source": [
    "data.columns"
   ]
  },
  {
   "cell_type": "code",
   "execution_count": 9,
   "id": "c3c2fe36-ca7e-4064-91b2-ec4044a20ba6",
   "metadata": {},
   "outputs": [
    {
     "name": "stdout",
     "output_type": "stream",
     "text": [
      "\n",
      "First 5 rows:\n",
      "   Year   Seq Glide Disaster Group Disaster Subgroup      Disaster Type  \\\n",
      "0  1900  9002   NaN        Natural    Climatological            Drought   \n",
      "1  1900  9001   NaN        Natural    Climatological            Drought   \n",
      "2  1902    12   NaN        Natural       Geophysical         Earthquake   \n",
      "3  1902     3   NaN        Natural       Geophysical  Volcanic activity   \n",
      "4  1902    10   NaN        Natural       Geophysical  Volcanic activity   \n",
      "\n",
      "  Disaster Subtype Disaster Subsubtype   Event Name     Country  ...  \\\n",
      "0          Drought                 NaN          NaN  Cabo Verde  ...   \n",
      "1          Drought                 NaN          NaN       India  ...   \n",
      "2  Ground movement                 NaN          NaN   Guatemala  ...   \n",
      "3         Ash fall                 NaN  Santa Maria   Guatemala  ...   \n",
      "4         Ash fall                 NaN  Santa Maria   Guatemala  ...   \n",
      "\n",
      "  No Affected No Homeless Total Affected Insured Damages ('000 US$)  \\\n",
      "0         NaN         NaN            NaN                        NaN   \n",
      "1         NaN         NaN            NaN                        NaN   \n",
      "2         NaN         NaN            NaN                        NaN   \n",
      "3         NaN         NaN            NaN                        NaN   \n",
      "4         NaN         NaN            NaN                        NaN   \n",
      "\n",
      "  Total Damages ('000 US$)       CPI Adm Level Admin1 Code Admin2 Code  \\\n",
      "0                      NaN  3.221647       NaN         NaN         NaN   \n",
      "1                      NaN  3.221647       NaN         NaN         NaN   \n",
      "2                  25000.0  3.350513       NaN         NaN         NaN   \n",
      "3                      NaN  3.350513       NaN         NaN         NaN   \n",
      "4                      NaN  3.350513       NaN         NaN         NaN   \n",
      "\n",
      "  Geo Locations  \n",
      "0           NaN  \n",
      "1           NaN  \n",
      "2           NaN  \n",
      "3           NaN  \n",
      "4           NaN  \n",
      "\n",
      "[5 rows x 45 columns]\n"
     ]
    }
   ],
   "source": [
    "print(\"\\nFirst 5 rows:\")\n",
    "print(data.head())"
   ]
  },
  {
   "cell_type": "code",
   "execution_count": null,
   "id": "2785ad10-e826-4dc0-8b3c-3a738c05d302",
   "metadata": {},
   "outputs": [],
   "source": [
    "# Check missing values\n",
    "print(\"\\nMissing Values:\")\n",
    "print(data.isnull().sum())"
   ]
  },
  {
   "cell_type": "markdown",
   "id": "5326c251-1cc9-4965-a705-97199ad4b565",
   "metadata": {},
   "source": [
    "### 3. Simple Visualization"
   ]
  },
  {
   "cell_type": "code",
   "execution_count": null,
   "id": "9c1d3332-7966-4079-b63d-e6a7605292a9",
   "metadata": {},
   "outputs": [],
   "source": [
    "# Disaster Type Distribution\n",
    "plt.figure(figsize=(10, 6))\n",
    "data['Disaster Type'].value_counts().plot(kind='bar')\n",
    "plt.title('Distribution of Disaster Types')\n",
    "plt.xlabel('Disaster Type')\n",
    "plt.ylabel('Count')\n",
    "plt.xticks(rotation=45)\n",
    "plt.tight_layout()\n",
    "plt.show()"
   ]
  },
  {
   "cell_type": "markdown",
   "id": "bb0ac51f-9935-4f37-b4f7-fbc2e86d2f18",
   "metadata": {},
   "source": [
    "### 4. Data Preprocessing"
   ]
  },
  {
   "cell_type": "code",
   "execution_count": null,
   "id": "9612d014-e97f-4e2d-b5b9-288461feeaaa",
   "metadata": {},
   "outputs": [],
   "source": [
    "# Select features\n",
    "features = ['Year', 'Dis Mag Value', 'Dis Mag Scale', 'Latitude', 'Longitude', 'Disaster Type']\n",
    "data_selected = data[features].copy()"
   ]
  },
  {
   "cell_type": "code",
   "execution_count": null,
   "id": "0c360f06-b9db-4ecd-a78b-055e649067a0",
   "metadata": {},
   "outputs": [],
   "source": [
    "# Convert to numeric, handling non-numeric values\n",
    "for col in ['Year', 'Dis Mag Value', 'Dis Mag Scale', 'Latitude', 'Longitude']:\n",
    "    data_selected[col] = pd.to_numeric(data_selected[col], errors='coerce')"
   ]
  },
  {
   "cell_type": "code",
   "execution_count": null,
   "id": "1acb2f54-97db-4966-8326-5b3869b255b2",
   "metadata": {},
   "outputs": [],
   "source": [
    "# Handle missing values\n",
    "data_selected = data_selected.replace('nan', np.nan)"
   ]
  },
  {
   "cell_type": "code",
   "execution_count": null,
   "id": "87235710-5ae3-4604-aa2b-ad7c0c313ba2",
   "metadata": {},
   "outputs": [],
   "source": [
    "# Impute numerical columns with mean\n",
    "num_cols = ['Year', 'Dis Mag Value', 'Dis Mag Scale', 'Latitude', 'Longitude']\n",
    "\n",
    "# Convert to numeric first, handling non-numeric values\n",
    "for col in num_cols:\n",
    "    data_selected[col] = pd.to_numeric(data_selected[col], errors='coerce')\n",
    "\n",
    "# Then impute\n",
    "imputer = SimpleImputer(strategy='mean')\n",
    "imputed_array = imputer.fit_transform(data_selected[num_cols])\n",
    "\n",
    "# Assign back, handling skipped columns\n",
    "valid_cols = [col for col, stat in zip(num_cols, imputer.statistics_) if not np.isnan(stat)]\n",
    "data_selected[valid_cols] = imputed_array\n",
    "\n",
    "# Explicitly handle columns with all NaN (like Dis Mag Scale)\n",
    "for col in num_cols:\n",
    "    if col not in valid_cols:\n",
    "        data_selected[col] = 0  # or np.nan if you prefer"
   ]
  },
  {
   "cell_type": "code",
   "execution_count": null,
   "id": "edeb19e7-8be5-4301-8a51-ebf99bbef87a",
   "metadata": {},
   "outputs": [],
   "source": [
    "# Encode target variable\n",
    "le = LabelEncoder()\n",
    "data_selected['Disaster Type'] = le.fit_transform(data_selected['Disaster Type'])"
   ]
  },
  {
   "cell_type": "code",
   "execution_count": null,
   "id": "09bb9322-1003-422a-8039-59c01b7bb969",
   "metadata": {},
   "outputs": [],
   "source": [
    "# Check for any remaining missing values\n",
    "print(\"\\nMissing values after imputation:\")\n",
    "print(data_selected.isnull().sum())"
   ]
  },
  {
   "cell_type": "markdown",
   "id": "6bfb065b-f39a-49d7-8a06-46b858987dad",
   "metadata": {},
   "source": [
    "### 5. Prepare data for ML"
   ]
  },
  {
   "cell_type": "code",
   "execution_count": null,
   "id": "93105707-38e8-40f2-84a5-2fe5d6236442",
   "metadata": {},
   "outputs": [],
   "source": [
    "X = data_selected.drop('Disaster Type', axis=1)\n",
    "y = data_selected['Disaster Type']"
   ]
  },
  {
   "cell_type": "code",
   "execution_count": null,
   "id": "bd2b6cf5-30cc-4dd2-894e-9ed32c5f715a",
   "metadata": {},
   "outputs": [],
   "source": [
    "# Split the data\n",
    "X_train, X_test, y_train, y_test = train_test_split(X, y, test_size=0.2, random_state=42)"
   ]
  },
  {
   "cell_type": "code",
   "execution_count": null,
   "id": "13045722-7dd7-4272-8928-4e3680cf7662",
   "metadata": {},
   "outputs": [],
   "source": [
    "# Scale the features\n",
    "scaler = StandardScaler()\n",
    "X_train_scaled = scaler.fit_transform(X_train)\n",
    "X_test_scaled = scaler.transform(X_test)"
   ]
  },
  {
   "cell_type": "markdown",
   "id": "909462ff-ed6a-4b96-8891-ebec24203986",
   "metadata": {},
   "source": [
    "### 6. Machine Learning Models"
   ]
  },
  {
   "cell_type": "code",
   "execution_count": null,
   "id": "4f512bb8-f340-40f1-b2ba-29d108d91e06",
   "metadata": {},
   "outputs": [],
   "source": [
    "# Random Forest\n",
    "print(\"\\nTraining Random Forest...\")\n",
    "rf_model = RandomForestClassifier(n_estimators=100, random_state=42, class_weight='balanced')\n",
    "rf_model.fit(X_train_scaled, y_train)\n",
    "rf_pred = rf_model.predict(X_test_scaled)\n",
    "rf_accuracy = accuracy_score(y_test, rf_pred)"
   ]
  },
  {
   "cell_type": "code",
   "execution_count": null,
   "id": "7db30942-f6da-4808-8bf8-343ad700ac99",
   "metadata": {},
   "outputs": [],
   "source": [
    "# KNN\n",
    "print(\"Training KNN...\")\n",
    "knn_model = KNeighborsClassifier(n_neighbors=5)\n",
    "knn_model.fit(X_train_scaled, y_train)\n",
    "knn_pred = knn_model.predict(X_test_scaled)\n",
    "knn_accuracy = accuracy_score(y_test, knn_pred)"
   ]
  },
  {
   "cell_type": "code",
   "execution_count": null,
   "id": "c418a134-2a37-40c5-9975-381aca23751e",
   "metadata": {},
   "outputs": [],
   "source": [
    "# SVM\n",
    "print(\"Training SVM...\")\n",
    "svm_model = SVC(random_state=42)\n",
    "svm_model.fit(X_train_scaled, y_train)\n",
    "svm_pred = svm_model.predict(X_test_scaled)\n",
    "svm_accuracy = accuracy_score(y_test, svm_pred)"
   ]
  },
  {
   "cell_type": "code",
   "execution_count": null,
   "id": "466f59d3-6a56-4a25-9d5e-4aeaeae40bec",
   "metadata": {},
   "outputs": [],
   "source": [
    "# 7. Results\n",
    "print(\"\\nModel Performance:\")\n",
    "print(f\"Random Forest Accuracy: {rf_accuracy:.4f}\")\n",
    "print(f\"KNN Accuracy: {knn_accuracy:.4f}\")\n",
    "print(f\"SVM Accuracy: {svm_accuracy:.4f}\")"
   ]
  },
  {
   "cell_type": "code",
   "execution_count": null,
   "id": "13248ee0-f2eb-474c-981e-5385ea89bec3",
   "metadata": {},
   "outputs": [],
   "source": [
    "# Detailed classification report for best model (Random Forest)\n",
    "print(\"\\nRandom Forest Classification Report:\")\n",
    "# Use the encoded labels directly and map to class names\n",
    "labels = range(len(le.classes_))\n",
    "print(classification_report(y_test, rf_pred, labels=labels, target_names=le.classes_, zero_division=0))"
   ]
  },
  {
   "cell_type": "code",
   "execution_count": null,
   "id": "5ccdfa6d-dfa2-4a70-a701-21a822ffd7b4",
   "metadata": {},
   "outputs": [],
   "source": [
    "# 8. Feature Importance (for Random Forest)\n",
    "feature_importance = pd.DataFrame({\n",
    "    'feature': X.columns,\n",
    "    'importance': rf_model.feature_importances_\n",
    "})\n",
    "feature_importance = feature_importance.sort_values('importance', ascending=False)\n",
    "\n",
    "plt.figure(figsize=(10, 6))\n",
    "sns.barplot(x='importance', y='feature', data=feature_importance)\n",
    "plt.title('Feature Importance (Random Forest)')\n",
    "plt.xlabel('Importance')\n",
    "plt.ylabel('Feature')\n",
    "plt.tight_layout()\n",
    "plt.show()"
   ]
  },
  {
   "cell_type": "markdown",
   "id": "7c83ec9a-7c4f-4a61-a2d6-f1d0de54571e",
   "metadata": {},
   "source": [
    "### 9. Simple comparison plot"
   ]
  },
  {
   "cell_type": "code",
   "execution_count": null,
   "id": "8cdf5ae2-afbf-4a76-b1df-efe2c7c414ad",
   "metadata": {},
   "outputs": [],
   "source": [
    "models = ['Random Forest', 'KNN', 'SVM']\n",
    "accuracies = [rf_accuracy, knn_accuracy, svm_accuracy]\n",
    "\n",
    "plt.figure(figsize=(8, 6))\n",
    "plt.bar(models, accuracies)\n",
    "plt.title('Model Comparison')\n",
    "plt.xlabel('Models')\n",
    "plt.ylabel('Accuracy')\n",
    "plt.ylim(0, 1)\n",
    "for i, v in enumerate(accuracies):\n",
    "    plt.text(i, v + 0.01, f'{v:.4f}', ha='center')\n",
    "plt.tight_layout()\n",
    "plt.show()"
   ]
  }
 ],
 "metadata": {
  "kernelspec": {
   "display_name": "Python 3 (ipykernel)",
   "language": "python",
   "name": "python3"
  },
  "language_info": {
   "codemirror_mode": {
    "name": "ipython",
    "version": 3
   },
   "file_extension": ".py",
   "mimetype": "text/x-python",
   "name": "python",
   "nbconvert_exporter": "python",
   "pygments_lexer": "ipython3",
   "version": "3.12.4"
  }
 },
 "nbformat": 4,
 "nbformat_minor": 5
}
